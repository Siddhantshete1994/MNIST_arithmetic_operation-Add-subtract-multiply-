{
 "cells": [
  {
   "cell_type": "code",
   "execution_count": 107,
   "id": "876dba95",
   "metadata": {},
   "outputs": [],
   "source": [
    "from keras.datasets import mnist\n",
    "from keras.models import Sequential\n",
    "from keras.layers import Dense, Dropout, Flatten\n",
    "from keras.layers import Conv2D, MaxPooling2D\n",
    "from keras import backend as K\n",
    "from keras import losses\n",
    "from keras import optimizers\n",
    "from keras import callbacks\n",
    "\n",
    "from PIL import Image\n",
    "import glob\n",
    "import os\n",
    "import numpy as np\n",
    "from sklearn import utils \n",
    "from sklearn.model_selection import KFold\n",
    "import IPython.display as dp\n",
    "import matplotlib.pyplot as plt\n",
    "%matplotlib inline\n",
    "\n",
    "from scipy.stats import itemfreq\n",
    "from math import floor, ceil\n",
    "import random"
   ]
  },
  {
   "cell_type": "markdown",
   "id": "f01adc32",
   "metadata": {},
   "source": [
    "## Load the data"
   ]
  },
  {
   "cell_type": "code",
   "execution_count": 108,
   "id": "ce0148ca",
   "metadata": {},
   "outputs": [
    {
     "data": {
      "image/png": "[encoded data removed]",
      "text/plain": [
       "<PIL.Image.Image image mode=L size=28x28 at 0x2B7C95E826A0>"
      ]
     },
     "execution_count": 108,
     "metadata": {},
     "output_type": "execute_result"
    }
   ],
   "source": [
    "(X_train, y_train), (X_test, y_test) = mnist.load_data()\n",
    "Image.fromarray(X_train[0])"
   ]
  },
  {
   "cell_type": "markdown",
   "id": "068d1f9e",
   "metadata": {},
   "source": [
    "## Create the dataset"
   ]
  },
  {
   "cell_type": "code",
   "execution_count": 109,
   "id": "72a5ce5d",
   "metadata": {},
   "outputs": [
    {
     "data": {
      "image/png": "[encoded data removed]",
      "text/plain": [
       "<PIL.Image.Image image mode=L size=56x28 at 0x2B7C96516E80>"
      ]
     },
     "execution_count": 109,
     "metadata": {},
     "output_type": "execute_result"
    }
   ],
   "source": [
    "# Create an empty element matrix of 28 * 56 \n",
    "test_image = np.zeros((28,56), dtype=\"uint8\")\n",
    "\n",
    "# Add the data from two image matrices from the training set\n",
    "test_image[:,:28] = X_train[15]\n",
    "test_image[:,28:] = X_train[2]\n",
    "Image.fromarray(test_image)"
   ]
  },
  {
   "cell_type": "code",
   "execution_count": 110,
   "id": "412d8bbc",
   "metadata": {},
   "outputs": [
    {
     "name": "stdout",
     "output_type": "stream",
     "text": [
      "Test set combinations ['19', '67', '96', '99', '07', '27', '55', '30', '38', '04']\n",
      "Train set combinations ['54', '64', '69', '33', '93', '01', '21', '92', '78', '58', '76', '17', '66', '35', '25', '20', '75', '52', '46', '11', '31', '02', '73', '23', '85', '50', '16', '53', '56', '68', '79', '18', '77', '41', '45', '62', '91', '24', '94', '97', '26', '83', '49', '43', '22', '65', '51', '72', '70', '47', '82', '98', '36', '39', '80', '57', '74', '84', '48', '00', '95', '12', '03', '40', '14', '42', '86', '88', '71', '87', '89', '63', '90', '44', '09', '28', '81', '61', '32', '60', '29', '37', '10', '06', '13', '05', '34', '08', '15', '59']\n"
     ]
    }
   ],
   "source": [
    "# Generate the 100 unique combiantions of dataset from (0-9)\n",
    "unique_pairs = [str(x)+str(y) for x in range(10) for y in range(10)]\n",
    "\n",
    "# Create 10 combiantions of test set pairs\n",
    "test_set_pairs = []\n",
    "\n",
    "while(len(test_set_pairs) < 10):\n",
    "    pair_to_add = random.choice(unique_pairs)\n",
    "    if pair_to_add not in test_set_pairs:\n",
    "        test_set_pairs.append(pair_to_add)\n",
    "\n",
    "#Use the remaining 90 combinations as training set pairs\n",
    "train_set_pairs = list(set(unique_pairs) - set(test_set_pairs))\n",
    "\n",
    "print(\"Test set combinations\", test_set_pairs)\n",
    "print(\"Train set combinations\",train_set_pairs)"
   ]
  },
  {
   "cell_type": "markdown",
   "id": "a6bff591",
   "metadata": {},
   "source": [
    "## Data check"
   ]
  },
  {
   "cell_type": "code",
   "execution_count": 111,
   "id": "3d9dcb68",
   "metadata": {},
   "outputs": [
    {
     "name": "stdout",
     "output_type": "stream",
     "text": [
      "19 is not present in training set.\n",
      "67 is not present in training set.\n",
      "96 is not present in training set.\n",
      "99 is not present in training set.\n",
      "07 is not present in training set.\n",
      "27 is not present in training set.\n",
      "55 is not present in training set.\n",
      "30 is not present in training set.\n",
      "38 is not present in training set.\n",
      "04 is not present in training set.\n"
     ]
    }
   ],
   "source": [
    "# Check for division of data into 90 training combinations and 10 test combinations\n",
    "assert(len(test_set_pairs) == 10)\n",
    "assert(len(train_set_pairs) == 90)\n",
    "\n",
    "# Ensure no test combinations appear in the training set pairs:\n",
    "for test_set in test_set_pairs:\n",
    "    assert(test_set not in train_set_pairs)\n",
    "    print(\"%s is not present in training set.\" % test_set)"
   ]
  },
  {
   "cell_type": "markdown",
   "id": "c5d00ead",
   "metadata": {},
   "source": [
    "## Choose the arithmetic operator that you want to train the network for"
   ]
  },
  {
   "cell_type": "code",
   "execution_count": 146,
   "id": "7ef05f85",
   "metadata": {},
   "outputs": [],
   "source": [
    "# Choose the operator for addition(+), subraction(-) or multiplication(*)\n",
    "op = '-'"
   ]
  },
  {
   "cell_type": "markdown",
   "id": "d5503c09",
   "metadata": {},
   "source": [
    "## Generation of data based on opereator specific"
   ]
  },
  {
   "cell_type": "code",
   "execution_count": 147,
   "id": "6b9d2e90",
   "metadata": {},
   "outputs": [],
   "source": [
    "if op == '+':\n",
    "    X_train = []\n",
    "    y_train = []\n",
    "\n",
    "    # Number of samples per permutation (e.g. there are 90 permutations in the train set so 10 * 90)\n",
    "    samples_per_permutation = 10  \n",
    "\n",
    "    for train_set_pair in train_set_pairs:\n",
    "        for _ in range(samples_per_permutation):\n",
    "            rand_i = np.random.choice(np.where(y_train_keras == int(train_set_pair[0]))[0])\n",
    "            rand_j = np.random.choice(np.where(y_train_keras == int(train_set_pair[1]))[0])\n",
    "\n",
    "            temp_image = np.zeros((28,56), dtype=\"uint8\")\n",
    "            temp_image[:,:28] = X_train_keras[rand_i]\n",
    "            temp_image[:,28:] = X_train_keras[rand_j]\n",
    "\n",
    "            X_train.append(temp_image)\n",
    "            y_train.append(y_train_keras[rand_i] + y_train_keras[rand_j])\n",
    "\n",
    "    X_test = []\n",
    "    y_test = []\n",
    "\n",
    "    for test_set_pair in test_set_pairs:\n",
    "        for _ in range(samples_per_permutation):\n",
    "            rand_i = np.random.choice(np.where(y_test_keras == int(test_set_pair[0]))[0])\n",
    "            rand_j = np.random.choice(np.where(y_test_keras == int(test_set_pair[1]))[0])\n",
    "\n",
    "            temp_image = np.zeros((28,56), dtype=\"uint8\")\n",
    "            temp_image[:,:28] = X_test_keras[rand_i]\n",
    "            temp_image[:,28:] = X_test_keras[rand_j]\n",
    "\n",
    "            X_test.append(temp_image)\n",
    "            y_test.append(y_test_keras[rand_i] + y_test_keras[rand_j])\n",
    "        \n",
    "elif op == '-':\n",
    "    X_train = []\n",
    "    y_train = []\n",
    "\n",
    "    # Number of samples per permutation (e.g. there are 90 permutations in the train set so 10 * 90)\n",
    "    samples_per_permutation = 10 \n",
    "\n",
    "    for train_set_pair in train_set_pairs:\n",
    "        for _ in range(samples_per_permutation):\n",
    "            rand_i = np.random.choice(np.where(y_train_keras == int(train_set_pair[0]))[0])\n",
    "            rand_j = np.random.choice(np.where(y_train_keras == int(train_set_pair[1]))[0])\n",
    "\n",
    "            temp_image = np.zeros((28,56), dtype=\"uint8\")\n",
    "            temp_image[:,:28] = X_train_keras[rand_i]\n",
    "            temp_image[:,28:] = X_train_keras[rand_j]\n",
    "\n",
    "            X_train.append(temp_image)\n",
    "            if y_train_keras[rand_i] < y_train_keras[rand_j]:\n",
    "                y_train.append(y_train_keras[rand_j] - y_train_keras[rand_i])\n",
    "            else:\n",
    "                y_train.append(y_train_keras[rand_i] - y_train_keras[rand_j])\n",
    "\n",
    "\n",
    "    X_test = []\n",
    "    y_test = []\n",
    "\n",
    "    for test_set_pair in test_set_pairs:\n",
    "        for _ in range(samples_per_permutation):\n",
    "            rand_i = np.random.choice(np.where(y_test_keras == int(test_set_pair[0]))[0])\n",
    "            rand_j = np.random.choice(np.where(y_test_keras == int(test_set_pair[1]))[0])\n",
    "\n",
    "            temp_image = np.zeros((28,56), dtype=\"uint8\")\n",
    "            temp_image[:,:28] = X_test_keras[rand_i]\n",
    "            temp_image[:,28:] = X_test_keras[rand_j]\n",
    "\n",
    "            X_test.append(temp_image)\n",
    "            if y_test_keras[rand_i] < y_test_keras[rand_j]:\n",
    "                y_test.append(y_test_keras[rand_j] - y_test_keras[rand_i])\n",
    "            else:      \n",
    "                y_test.append(y_test_keras[rand_i] - y_test_keras[rand_j])\n",
    "                \n",
    "else:\n",
    "    X_train = []\n",
    "    y_train = []\n",
    "\n",
    "    # Number of samples per permutation (e.g. there are 90 permutations in the train set so 10 * 90)\n",
    "    samples_per_permutation = 10  \n",
    "\n",
    "    for train_set_pair in train_set_pairs:\n",
    "        for _ in range(samples_per_permutation):\n",
    "            rand_i = np.random.choice(np.where(y_train_keras == int(train_set_pair[0]))[0])\n",
    "            rand_j = np.random.choice(np.where(y_train_keras == int(train_set_pair[1]))[0])\n",
    "\n",
    "            temp_image = np.zeros((28,56), dtype=\"uint8\")\n",
    "            temp_image[:,:28] = X_train_keras[rand_i]\n",
    "            temp_image[:,28:] = X_train_keras[rand_j]\n",
    "\n",
    "            X_train.append(temp_image)\n",
    "            y_train.append(y_train_keras[rand_i] * y_train_keras[rand_j])\n",
    "\n",
    "    X_test = []\n",
    "    y_test = []\n",
    "\n",
    "    for test_set_pair in test_set_pairs:\n",
    "        for _ in range(samples_per_permutation):\n",
    "            rand_i = np.random.choice(np.where(y_test_keras == int(test_set_pair[0]))[0])\n",
    "            rand_j = np.random.choice(np.where(y_test_keras == int(test_set_pair[1]))[0])\n",
    "\n",
    "            temp_image = np.zeros((28,56), dtype=\"uint8\")\n",
    "            temp_image[:,:28] = X_test_keras[rand_i]\n",
    "            temp_image[:,28:] = X_test_keras[rand_j]\n",
    "\n",
    "            X_test.append(temp_image)\n",
    "            y_test.append(y_test_keras[rand_i] * y_test_keras[rand_j])"
   ]
  },
  {
   "cell_type": "code",
   "execution_count": 148,
   "id": "405be54b",
   "metadata": {},
   "outputs": [
    {
     "name": "stdout",
     "output_type": "stream",
     "text": [
      "Training set size: 900, test set size: 100\n"
     ]
    }
   ],
   "source": [
    "print(\"Training set size: %s, test set size: %s\" % (len(X_train), len(X_test)))\n",
    "\n",
    "# The training set should be 90,000 images in size (90 permutations * 1000)\n",
    "# and the label data, y_train, must also be equal in length.\n",
    "assert(len(X_train) == samples_per_permutation * 90)\n",
    "assert(len(X_train) == len(y_train))\n",
    "\n",
    "# The test set should be 10,000 images in size (10 permutations * 1000)\n",
    "# and the label data, y_test, must also be equal in length\n",
    "assert(len(X_test) == samples_per_permutation * 10)\n",
    "assert(len(X_test) == len(y_test))"
   ]
  },
  {
   "cell_type": "markdown",
   "id": "82ae398e",
   "metadata": {},
   "source": [
    "Check for generated data in pairs with specific labels for specific operation"
   ]
  },
  {
   "cell_type": "code",
   "execution_count": 135,
   "id": "f938ee16",
   "metadata": {
    "scrolled": true
   },
   "outputs": [
    {
     "name": "stdout",
     "output_type": "stream",
     "text": [
      "Image label: 15\n"
     ]
    },
    {
     "data": {
      "image/png": "[encoded data removed]",
      "text/plain": [
       "<PIL.Image.Image image mode=L size=56x28 at 0x2B7C9EEC1C18>"
      ]
     },
     "execution_count": 135,
     "metadata": {},
     "output_type": "execute_result"
    }
   ],
   "source": [
    "ind = random.randint(0, len(X_test))\n",
    "print(\"Image label: \" + str(y_test[ind]))\n",
    "Image.fromarray(X_test[ind])\n"
   ]
  },
  {
   "cell_type": "code",
   "execution_count": 136,
   "id": "1321b89b",
   "metadata": {},
   "outputs": [],
   "source": [
    "X_train = np.asarray(X_train)\n",
    "y_train = np.asarray(y_train)\n",
    "X_test = np.asarray(X_test)\n",
    "y_test = np.asarray(y_test)\n",
    "\n",
    "# Reshape the data sets to a format suitable\n",
    "X_train = X_train.reshape(X_train.shape[0], X_train.shape[1], X_train.shape[2], 1)\n",
    "X_test = X_test.reshape(X_test.shape[0], X_test.shape[1], X_test.shape[2], 1)\n",
    "\n",
    "# Reformat the images to use floating point values rather than integers between 0-255\n",
    "X_train = X_train.astype('float32')\n",
    "X_test = X_test.astype('float32')\n",
    "X_train /= 255\n",
    "X_test /= 255\n",
    "\n",
    "# Data Shuffling for better training\n",
    "X_train, y_train = utils.shuffle(X_train, y_train)\n",
    "X_test, y_test = utils.shuffle(X_test, y_test)"
   ]
  },
  {
   "cell_type": "markdown",
   "id": "7d1cd706",
   "metadata": {},
   "source": [
    "## Model Configuration"
   ]
  },
  {
   "cell_type": "code",
   "execution_count": 137,
   "id": "c70cb141",
   "metadata": {},
   "outputs": [],
   "source": [
    "batch_size = 128\n",
    "num_classes = 1               \n",
    "epochs = 40\n",
    "img_rows, img_cols = np.shape(X_train)[1], np.shape(X_train)[2]\n",
    "input_shape = (img_rows, img_cols, 1)\n",
    "\n",
    "\n",
    "######################################################\n",
    "# Set up the network Model\n",
    "model = Sequential()\n",
    "model.add(Conv2D(32, kernel_size=(3, 3),\n",
    "                     activation='relu',\n",
    "                     input_shape=input_shape))\n",
    "model.add(Conv2D(64, (3, 3), activation='relu'))  \n",
    "model.add(MaxPooling2D(pool_size=(2, 2))) \n",
    "model.add(Dropout(0.25))\n",
    "model.add(Flatten())\n",
    "model.add(Dense(256, activation='relu'))  \n",
    "model.add(Dropout(0.5))\n",
    "model.add(Dense(100, activation='relu'))\n",
    "# specify one neuron\n",
    "model.add(Dense(num_classes, activation='linear')) \n",
    "\n",
    "\n",
    "######################################################\n",
    "# Configuration for an optimiser\n",
    "rms = optimizers.RMSprop(learning_rate=0.001, rho=0.9, epsilon=1e-08, decay=0.0)\n",
    "sgd = optimizers.SGD(learning_rate=0.0001, decay=1e-5, momentum=0.9, nesterov=True)\n",
    "ada = optimizers.Adadelta(learning_rate=1.0, rho=0.95, epsilon=1e-08, decay=0.0)\n",
    "ndm = optimizers.Nadam(learning_rate=0.002, beta_1=0.9, beta_2=0.999, epsilon=1e-08, schedule_decay=0.004)\n",
    "\n",
    "\n",
    "######################################################\n",
    "# Compile the network.\n",
    "model.compile(loss=losses.mean_absolute_error, optimizer=ada) ##mean absolute error or mean squared error "
   ]
  },
  {
   "cell_type": "markdown",
   "id": "01c10707",
   "metadata": {},
   "source": [
    "## Train the model"
   ]
  },
  {
   "cell_type": "code",
   "execution_count": 138,
   "id": "7a801f2d",
   "metadata": {},
   "outputs": [
    {
     "name": "stdout",
     "output_type": "stream",
     "text": [
      "Epoch 1/40\n",
      "8/8 [==============================] - 2s 76ms/step - loss: 7.0400 - val_loss: 4.4290\n",
      "Epoch 2/40\n",
      "8/8 [==============================] - 0s 40ms/step - loss: 3.9062 - val_loss: 3.9145\n",
      "Epoch 3/40\n",
      "8/8 [==============================] - 0s 43ms/step - loss: 3.5073 - val_loss: 4.8129\n",
      "Epoch 4/40\n",
      "8/8 [==============================] - 0s 40ms/step - loss: 3.3863 - val_loss: 4.8365\n",
      "Epoch 5/40\n",
      "8/8 [==============================] - 0s 42ms/step - loss: 3.2587 - val_loss: 4.2967\n",
      "Epoch 6/40\n",
      "8/8 [==============================] - 0s 41ms/step - loss: 2.9413 - val_loss: 3.3332\n",
      "Epoch 7/40\n",
      "8/8 [==============================] - 0s 39ms/step - loss: 3.0719 - val_loss: 3.6656\n",
      "Epoch 8/40\n",
      "8/8 [==============================] - 0s 43ms/step - loss: 3.1664 - val_loss: 2.9343\n",
      "Epoch 9/40\n",
      "8/8 [==============================] - 0s 42ms/step - loss: 2.7503 - val_loss: 2.6577\n",
      "Epoch 10/40\n",
      "8/8 [==============================] - 0s 38ms/step - loss: 2.5120 - val_loss: 4.1385\n",
      "Epoch 11/40\n",
      "8/8 [==============================] - 0s 40ms/step - loss: 2.8304 - val_loss: 2.6344\n",
      "Epoch 12/40\n",
      "8/8 [==============================] - 0s 41ms/step - loss: 2.2739 - val_loss: 2.4733\n",
      "Epoch 13/40\n",
      "8/8 [==============================] - 0s 39ms/step - loss: 2.5010 - val_loss: 2.5041\n",
      "Epoch 14/40\n",
      "8/8 [==============================] - 0s 40ms/step - loss: 2.1817 - val_loss: 2.5697\n",
      "Epoch 15/40\n",
      "8/8 [==============================] - 0s 39ms/step - loss: 2.5330 - val_loss: 3.0239\n",
      "Epoch 16/40\n",
      "8/8 [==============================] - 0s 40ms/step - loss: 2.4241 - val_loss: 4.5251\n",
      "Epoch 17/40\n",
      "8/8 [==============================] - 0s 42ms/step - loss: 3.0576 - val_loss: 3.0716\n",
      "Epoch 18/40\n",
      "8/8 [==============================] - 0s 40ms/step - loss: 2.3208 - val_loss: 2.2683\n",
      "Epoch 19/40\n",
      "8/8 [==============================] - 0s 41ms/step - loss: 2.3577 - val_loss: 2.3562\n",
      "Epoch 20/40\n",
      "8/8 [==============================] - 0s 40ms/step - loss: 2.1812 - val_loss: 2.6491\n",
      "Epoch 21/40\n",
      "8/8 [==============================] - 0s 41ms/step - loss: 2.2632 - val_loss: 3.0991\n",
      "Epoch 22/40\n",
      "8/8 [==============================] - 0s 40ms/step - loss: 2.3522 - val_loss: 3.2253\n",
      "Epoch 23/40\n",
      "8/8 [==============================] - 0s 40ms/step - loss: 2.3014 - val_loss: 2.8065\n",
      "Epoch 24/40\n",
      "8/8 [==============================] - 0s 42ms/step - loss: 2.6921 - val_loss: 2.2463\n",
      "Epoch 25/40\n",
      "8/8 [==============================] - 0s 39ms/step - loss: 1.9708 - val_loss: 3.6063\n",
      "Epoch 26/40\n",
      "8/8 [==============================] - 0s 42ms/step - loss: 2.4673 - val_loss: 2.1815\n",
      "Epoch 27/40\n",
      "8/8 [==============================] - 0s 40ms/step - loss: 1.9073 - val_loss: 2.2345\n",
      "Epoch 28/40\n",
      "8/8 [==============================] - 0s 40ms/step - loss: 1.9392 - val_loss: 2.1261\n",
      "Epoch 29/40\n",
      "8/8 [==============================] - 0s 40ms/step - loss: 2.3077 - val_loss: 2.0962\n",
      "Epoch 30/40\n",
      "8/8 [==============================] - 0s 40ms/step - loss: 2.0629 - val_loss: 2.2884\n",
      "Epoch 31/40\n",
      "8/8 [==============================] - 0s 40ms/step - loss: 2.0009 - val_loss: 2.3559\n",
      "Epoch 32/40\n",
      "8/8 [==============================] - 0s 39ms/step - loss: 1.9737 - val_loss: 2.0599\n",
      "Epoch 33/40\n",
      "8/8 [==============================] - 0s 39ms/step - loss: 2.1299 - val_loss: 2.8357\n",
      "Epoch 34/40\n",
      "8/8 [==============================] - 0s 40ms/step - loss: 2.4378 - val_loss: 2.1408\n",
      "Epoch 35/40\n",
      "8/8 [==============================] - 0s 39ms/step - loss: 1.8089 - val_loss: 2.2019\n",
      "Epoch 36/40\n",
      "8/8 [==============================] - 0s 39ms/step - loss: 1.8968 - val_loss: 2.6999\n",
      "Epoch 37/40\n",
      "8/8 [==============================] - 0s 40ms/step - loss: 2.3447 - val_loss: 2.1193\n",
      "Epoch 38/40\n",
      "8/8 [==============================] - 0s 41ms/step - loss: 1.9176 - val_loss: 2.1564\n",
      "Epoch 39/40\n",
      "8/8 [==============================] - 0s 40ms/step - loss: 2.2379 - val_loss: 2.9081\n",
      "Epoch 40/40\n",
      "8/8 [==============================] - 0s 39ms/step - loss: 2.1941 - val_loss: 4.3306\n"
     ]
    }
   ],
   "source": [
    "history = model.fit(X_train, y_train,\n",
    "                    batch_size=batch_size,\n",
    "                    epochs=epochs,\n",
    "                    validation_data=(X_test, y_test),\n",
    "                    verbose=1)"
   ]
  },
  {
   "cell_type": "code",
   "execution_count": 139,
   "id": "7dbe1ad4",
   "metadata": {},
   "outputs": [
    {
     "name": "stdout",
     "output_type": "stream",
     "text": [
      "4/4 [==============================] - 0s 3ms/step - loss: 4.3306\n",
      "\n",
      "4.33059\n"
     ]
    }
   ],
   "source": [
    "score = model.evaluate(X_test, y_test, verbose=1)\n",
    "print(\"\\n%.5f\" % score)"
   ]
  },
  {
   "cell_type": "markdown",
   "id": "8e7af9f8",
   "metadata": {},
   "source": [
    "## Visualise the data"
   ]
  },
  {
   "cell_type": "code",
   "execution_count": 140,
   "id": "fc5cdffd",
   "metadata": {},
   "outputs": [
    {
     "data": {
      "image/png": "[encoded data removed]",
      "text/plain": [
       "<Figure size 432x288 with 1 Axes>"
      ]
     },
     "metadata": {
      "needs_background": "light"
     },
     "output_type": "display_data"
    }
   ],
   "source": [
    "plt.xlim(0,len(history.history['loss'])-1)\n",
    "plt.plot(history.history['loss'], linestyle='--', linewidth=3)\n",
    "plt.plot(history.history['val_loss'], linewidth=3)\n",
    "plt.title('Loss on Test/Training Set')\n",
    "plt.ylabel('Loss (MAE)')\n",
    "plt.xlabel('Epoch')\n",
    "plt.legend(['Training Set', 'Test Set (Loss @ Final Epoch: '+ str(\"%.2f\"%score) +')'], loc='upper right')\n",
    "plt.show()"
   ]
  },
  {
   "cell_type": "markdown",
   "id": "71259e1a",
   "metadata": {},
   "source": [
    "## Make predictions"
   ]
  },
  {
   "cell_type": "code",
   "execution_count": 145,
   "id": "65995b96",
   "metadata": {
    "scrolled": false
   },
   "outputs": [
    {
     "data": {
      "image/png": "[encoded data removed]"
     },
     "metadata": {},
     "output_type": "display_data"
    },
    {
     "name": "stdout",
     "output_type": "stream",
     "text": [
      "Prediction for addition 18: 9.892652\n"
     ]
    },
    {
     "data": {
      "image/png": "[encoded data removed]"
     },
     "metadata": {},
     "output_type": "display_data"
    },
    {
     "name": "stdout",
     "output_type": "stream",
     "text": [
      "Prediction for addition 13: 8.032708\n"
     ]
    },
    {
     "data": {
      "image/png": "[encoded data removed]"
     },
     "metadata": {},
     "output_type": "display_data"
    },
    {
     "name": "stdout",
     "output_type": "stream",
     "text": [
      "Prediction for addition 10: 3.7164278\n"
     ]
    },
    {
     "data": {
      "image/png": "[encoded data removed]"
     },
     "metadata": {},
     "output_type": "display_data"
    },
    {
     "name": "stdout",
     "output_type": "stream",
     "text": [
      "Prediction for addition 11: 5.438687\n"
     ]
    },
    {
     "data": {
      "image/png": "[encoded data removed]"
     },
     "metadata": {},
     "output_type": "display_data"
    },
    {
     "name": "stdout",
     "output_type": "stream",
     "text": [
      "Prediction for addition 3: 2.012853\n"
     ]
    },
    {
     "data": {
      "image/png": "[encoded data removed]"
     },
     "metadata": {},
     "output_type": "display_data"
    },
    {
     "name": "stdout",
     "output_type": "stream",
     "text": [
      "Prediction for addition 18: 9.892652\n"
     ]
    },
    {
     "data": {
      "image/png": "[encoded data removed]"
     },
     "metadata": {},
     "output_type": "display_data"
    },
    {
     "name": "stdout",
     "output_type": "stream",
     "text": [
      "Prediction for addition 10: 5.1154156\n"
     ]
    },
    {
     "data": {
      "image/png": "[encoded data removed]"
     },
     "metadata": {},
     "output_type": "display_data"
    },
    {
     "name": "stdout",
     "output_type": "stream",
     "text": [
      "Prediction for addition 4: 4.5372405\n"
     ]
    },
    {
     "data": {
      "image/png": "[encoded data removed]"
     },
     "metadata": {},
     "output_type": "display_data"
    },
    {
     "name": "stdout",
     "output_type": "stream",
     "text": [
      "Prediction for addition 10: 6.720311\n"
     ]
    },
    {
     "data": {
      "image/png": "[encoded data removed]"
     },
     "metadata": {},
     "output_type": "display_data"
    },
    {
     "name": "stdout",
     "output_type": "stream",
     "text": [
      "Prediction for addition 13: 6.0251646\n"
     ]
    }
   ],
   "source": [
    "for _ in range(10):\n",
    "    ind = random.randint(0, len(X_test)-1)\n",
    "    image_predicted = X_test[ind].copy()\n",
    "    image_predicted = image_predicted.reshape((28, 56))\n",
    "    image_predicted = image_predicted * 255\n",
    "    image_predicted = image_predicted.astype('uint8')\n",
    "    dp.display_png(Image.fromarray(image_predicted))\n",
    "    p = model.predict(X_test[ind].reshape(1, 28, 56, 1))[0][0]\n",
    "    print(\"Prediction for subtraction %s: %s\" % (y_test[ind], p))\n"
   ]
  },
  {
   "cell_type": "markdown",
   "id": "ba8c7f57",
   "metadata": {},
   "source": [
    "## Check for correctness"
   ]
  },
  {
   "cell_type": "code",
   "execution_count": 57,
   "id": "f8a3fd76",
   "metadata": {},
   "outputs": [
    {
     "name": "stdout",
     "output_type": "stream",
     "text": [
      "Correct: 45, incorrect: 55\n"
     ]
    }
   ],
   "source": [
    "correct = 0\n",
    "incorrect = 0\n",
    "\n",
    "for i in range(0, len(y_test)):\n",
    "    prediction = model.predict(X_test[i].reshape(1, X_test[i].shape[0], X_test[i].shape[1], 1))[0][0]\n",
    "    rounded_prediction = round(prediction)\n",
    "    floor_prediction = floor(prediction)\n",
    "    ceiling_prediction = ceil(prediction)\n",
    "    \n",
    "    abs_difference = abs(rounded_prediction-y_test[i])\n",
    "    \n",
    "    if abs_difference <= 1:\n",
    "        correct = correct + 1\n",
    "    else:\n",
    "        incorrect = incorrect + 1\n",
    "        \n",
    "print(\"Correct: %s, incorrect: %s\" % (correct, incorrect))\n"
   ]
  },
  {
   "cell_type": "markdown",
   "id": "a177cca1",
   "metadata": {},
   "source": [
    "# End of notebook"
   ]
  },
  {
   "cell_type": "markdown",
   "id": "7f66709f",
   "metadata": {},
   "source": [
    "Note: The accuracy of prediction can further be increased by training for large number of samples and epochs with other validation techniques"
   ]
  }
 ],
 "metadata": {
  "kernelspec": {
   "display_name": "Python 3",
   "language": "python",
   "name": "python3"
  },
  "language_info": {
   "codemirror_mode": {
    "name": "ipython",
    "version": 3
   },
   "file_extension": ".py",
   "mimetype": "text/x-python",
   "name": "python",
   "nbconvert_exporter": "python",
   "pygments_lexer": "ipython3",
   "version": "3.6.8"
  }
 },
 "nbformat": 4,
 "nbformat_minor": 5
}
